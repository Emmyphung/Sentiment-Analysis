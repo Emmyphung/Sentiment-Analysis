{
 "cells": [
  {
   "cell_type": "markdown",
   "metadata": {},
   "source": [
    "# Sentiment Analysis (NLP, Logistic Regression, Bernoulli NB)\n",
    "\n"
   ]
  },
  {
   "cell_type": "markdown",
   "metadata": {},
   "source": [
    "## Introduction\n",
    "This notebook will compare the use of two NLP techniques, Count Vectorizor and TF-IDF Vectorizer, and two classification models, Logistic Regression and Bernoulli NB in sentiment analysis. I'll give detailed explanation on which model performs better and why.\n",
    "\n",
    "Data: movie ratings from IMDB.com\n",
    "\n",
    "The data consists of the text of a movie review and a target variable which tells us whether the reviewer had a positive feeling towards the movie (equivalent to rating the movie between 7 and 10) or a negative feeling (rating the movie between 1 and 4). Neutral reactions are not included in the data."
   ]
  },
  {
   "cell_type": "markdown",
   "metadata": {},
   "source": [
    "### Part 1: Naive Bayes"
   ]
  },
  {
   "cell_type": "markdown",
   "metadata": {},
   "source": [
    "We know that Naive Bayes classifier works by calculating the conditional probabilities of each feature, $e_i$, occuring with each class $c$ and treating them independently. This results in the probability of a certain class occuring given a set of features, or a piece of evidence, $E$, as\n",
    "\n",
    "$$P(c \\mid E) = \\frac{p(e_1 \\mid c) \\cdot p(e_2 \\mid c) \\cdot \\cdot \\cdot p(e_k \\mid c) \\cdot p(c)}{p(E)}.$$\n",
    "\n",
    "The conditional probability of each piece of evidence occuring with a given class is given by\n",
    "\n",
    "$$P(e_i \\mid c) = \\frac{\\text{count}(e_i, c)}{\\text{count}(c)}.$$\n",
    "\n",
    "In the above equation $\\text{count}(e_i, c)$ is the number of documents in a given class that contain feature $e_i$ and $\\text{count}(c)$ is the number of documents that belong to class $c$. \n",
    "\n",
    "A common variation of the above is to use Laplace (sometimes called +1) smoothing. Recall the use of Laplace smoothing introduced toward the end of Chapter 3 in the section Probability Estimation. This is done in sklearn by setting `alpha=1` in the `BernoulliNB()` function (this is also the default behavior). The result of Laplace smoothing will slightly change the conditional probabilities,\n",
    "\n",
    "$$P(e_i \\mid c) = \\frac{\\text{count}(e_i, c) + 1}{\\text{count}(c) + 2}.$$\n",
    "\n",
    "**Why should we use Laplace smoothing?**"
   ]
  },
  {
   "cell_type": "markdown",
   "metadata": {},
   "source": [
    "Laplace smoothing is a technique to smooth the probability estimation of categorical data. It is useful because it introduces some correction or regularization to our probability measures and helps avoid having 0 probability for some classes. Extreme values like 0 probability can easily distort our class probability estimation since it would turn everything into 0 (see the example below). When our count (e,c) gets larger and larger, the overall conditional probability estimation will converge to the original estimation. The effects of Laplace smoothing on our probability estimation is demonstrated in figure 3-16 (p.74, *Data Science for Business*). \n",
    "\n",
    "Looking at this from a bias-variance tradeoff, anytime we add a correction term, we introduce more bias but help lower the variance of prediction errors. We would using Laplace smoothing when we know that we will get more information by including these sparse instances, thus improve our predictions and reduce variance. In that case, the resulted bias is acceptable. An example in which we have to use Laplace smoothing is when some of our class or potentially important features have very sparse data. Let's say we have a movie review data set and out of 500 negative reviews, the word *'trash'* occurs twice, once in a negative review in the training set and once in a positive review in the test set. Thus, when training our data, we will get *count(trash, positive) = 0* and thus *p(trash|positive) = 0*, which leads to *p(positive| trash and other terms) = 0* no matter what. This is similar to saying that whenever the word 'trash' appears, it is always a negative review, which is incorrect and causes a bad model because we need to consider other words (context) as well. Therefore, adding a small correction term would improve our model by giving an appropriate weights to these features, lower prediction errors and lower the variance.  "
   ]
  },
  {
   "cell_type": "markdown",
   "metadata": {},
   "source": [
    "### Part 2: Text classification for sentiment analysis"
   ]
  },
  {
   "cell_type": "markdown",
   "metadata": {},
   "source": [
    "### EDA"
   ]
  },
  {
   "cell_type": "code",
   "execution_count": 1,
   "metadata": {},
   "outputs": [
    {
     "data": {
      "text/html": [
       "<div>\n",
       "<style scoped>\n",
       "    .dataframe tbody tr th:only-of-type {\n",
       "        vertical-align: middle;\n",
       "    }\n",
       "\n",
       "    .dataframe tbody tr th {\n",
       "        vertical-align: top;\n",
       "    }\n",
       "\n",
       "    .dataframe thead th {\n",
       "        text-align: right;\n",
       "    }\n",
       "</style>\n",
       "<table border=\"1\" class=\"dataframe\">\n",
       "  <thead>\n",
       "    <tr style=\"text-align: right;\">\n",
       "      <th></th>\n",
       "      <th>Text</th>\n",
       "      <th>Class</th>\n",
       "    </tr>\n",
       "  </thead>\n",
       "  <tbody>\n",
       "    <tr>\n",
       "      <td>0</td>\n",
       "      <td>'One of the first of the best musicals Anchors...</td>\n",
       "      <td>P</td>\n",
       "    </tr>\n",
       "    <tr>\n",
       "      <td>1</td>\n",
       "      <td>'Visually disjointed and full of itself the di...</td>\n",
       "      <td>N</td>\n",
       "    </tr>\n",
       "    <tr>\n",
       "      <td>2</td>\n",
       "      <td>'These type of movies about young teenagers st...</td>\n",
       "      <td>P</td>\n",
       "    </tr>\n",
       "    <tr>\n",
       "      <td>3</td>\n",
       "      <td>'I would rather of had my eyes gouged out with...</td>\n",
       "      <td>N</td>\n",
       "    </tr>\n",
       "    <tr>\n",
       "      <td>4</td>\n",
       "      <td>'The title says it all. Tail Gunner Joe was a ...</td>\n",
       "      <td>N</td>\n",
       "    </tr>\n",
       "  </tbody>\n",
       "</table>\n",
       "</div>"
      ],
      "text/plain": [
       "                                                Text Class\n",
       "0  'One of the first of the best musicals Anchors...     P\n",
       "1  'Visually disjointed and full of itself the di...     N\n",
       "2  'These type of movies about young teenagers st...     P\n",
       "3  'I would rather of had my eyes gouged out with...     N\n",
       "4  'The title says it all. Tail Gunner Joe was a ...     N"
      ]
     },
     "execution_count": 1,
     "metadata": {},
     "output_type": "execute_result"
    }
   ],
   "source": [
    "import pandas as pd\n",
    "data = pd.read_csv('imdb.csv')\n",
    "\n",
    "data.head()"
   ]
  },
  {
   "cell_type": "code",
   "execution_count": 2,
   "metadata": {},
   "outputs": [
    {
     "data": {
      "text/plain": [
       "Text     1\n",
       "Class    0\n",
       "dtype: int64"
      ]
     },
     "execution_count": 2,
     "metadata": {},
     "output_type": "execute_result"
    }
   ],
   "source": [
    "#Check how many null values we have.\n",
    "data[data['Class'].isnull() ==True].count()"
   ]
  },
  {
   "cell_type": "code",
   "execution_count": 3,
   "metadata": {},
   "outputs": [],
   "source": [
    "#In this case we have only 1 value so we would skip it.\n",
    "df = data.dropna(axis = 0, how ='any') "
   ]
  },
  {
   "cell_type": "markdown",
   "metadata": {},
   "source": [
    "Let's code the target variable to be numeric: use the value `1` to represent 'P' and `0` to represent 'N'."
   ]
  },
  {
   "cell_type": "code",
   "execution_count": 4,
   "metadata": {},
   "outputs": [
    {
     "name": "stderr",
     "output_type": "stream",
     "text": [
      "C:\\Users\\emmyp\\AppData\\Local\\Continuum\\anaconda3\\lib\\site-packages\\ipykernel_launcher.py:2: SettingWithCopyWarning: \n",
      "A value is trying to be set on a copy of a slice from a DataFrame.\n",
      "Try using .loc[row_indexer,col_indexer] = value instead\n",
      "\n",
      "See the caveats in the documentation: http://pandas.pydata.org/pandas-docs/stable/user_guide/indexing.html#returning-a-view-versus-a-copy\n",
      "  \n"
     ]
    },
    {
     "data": {
      "text/html": [
       "<div>\n",
       "<style scoped>\n",
       "    .dataframe tbody tr th:only-of-type {\n",
       "        vertical-align: middle;\n",
       "    }\n",
       "\n",
       "    .dataframe tbody tr th {\n",
       "        vertical-align: top;\n",
       "    }\n",
       "\n",
       "    .dataframe thead th {\n",
       "        text-align: right;\n",
       "    }\n",
       "</style>\n",
       "<table border=\"1\" class=\"dataframe\">\n",
       "  <thead>\n",
       "    <tr style=\"text-align: right;\">\n",
       "      <th></th>\n",
       "      <th>Text</th>\n",
       "      <th>Class</th>\n",
       "    </tr>\n",
       "  </thead>\n",
       "  <tbody>\n",
       "    <tr>\n",
       "      <td>0</td>\n",
       "      <td>'One of the first of the best musicals Anchors...</td>\n",
       "      <td>1</td>\n",
       "    </tr>\n",
       "    <tr>\n",
       "      <td>1</td>\n",
       "      <td>'Visually disjointed and full of itself the di...</td>\n",
       "      <td>0</td>\n",
       "    </tr>\n",
       "    <tr>\n",
       "      <td>2</td>\n",
       "      <td>'These type of movies about young teenagers st...</td>\n",
       "      <td>1</td>\n",
       "    </tr>\n",
       "    <tr>\n",
       "      <td>3</td>\n",
       "      <td>'I would rather of had my eyes gouged out with...</td>\n",
       "      <td>0</td>\n",
       "    </tr>\n",
       "    <tr>\n",
       "      <td>4</td>\n",
       "      <td>'The title says it all. Tail Gunner Joe was a ...</td>\n",
       "      <td>0</td>\n",
       "    </tr>\n",
       "  </tbody>\n",
       "</table>\n",
       "</div>"
      ],
      "text/plain": [
       "                                                Text  Class\n",
       "0  'One of the first of the best musicals Anchors...      1\n",
       "1  'Visually disjointed and full of itself the di...      0\n",
       "2  'These type of movies about young teenagers st...      1\n",
       "3  'I would rather of had my eyes gouged out with...      0\n",
       "4  'The title says it all. Tail Gunner Joe was a ...      0"
      ]
     },
     "execution_count": 4,
     "metadata": {},
     "output_type": "execute_result"
    }
   ],
   "source": [
    "new_values = {'N': 0, 'P': 1}\n",
    "df['Class'] = df['Class'].map(new_values)\n",
    "df.head()"
   ]
  },
  {
   "cell_type": "markdown",
   "metadata": {},
   "source": [
    "### Models and Evaluation"
   ]
  },
  {
   "cell_type": "markdown",
   "metadata": {},
   "source": [
    "Next I'll put all of the text into a data frame called `X` and the target variable in a data frame called `Y`. Make a train/test split where you give 75% of the data to training."
   ]
  },
  {
   "cell_type": "code",
   "execution_count": 5,
   "metadata": {},
   "outputs": [],
   "source": [
    "import random\n",
    "from sklearn.model_selection import train_test_split\n",
    "\n",
    "test_size = 0.25\n",
    "\n",
    "X = pd.DataFrame(df['Text'])\n",
    "y = pd.DataFrame(df['Class'])\n",
    "\n",
    "X_train, X_test, y_train, y_test = train_test_split(df['Text'], df['Class'], test_size=test_size, random_state=1)"
   ]
  },
  {
   "cell_type": "markdown",
   "metadata": {},
   "source": [
    "Now create a binary `CountVectorizer()` and a binary `TfidfVectorizer()`. Use the original single words as well as bigrams (in the same model). I'll also use an \"english\" stop word list. Then I fit these to the training data to extract a vocabulary and transform both the train and test data."
   ]
  },
  {
   "cell_type": "code",
   "execution_count": 6,
   "metadata": {},
   "outputs": [
    {
     "data": {
      "text/plain": [
       "TfidfVectorizer(analyzer='word', binary=True, decode_error='strict',\n",
       "                dtype=<class 'numpy.float64'>, encoding='utf-8',\n",
       "                input='content', lowercase=True, max_df=1.0, max_features=None,\n",
       "                min_df=1, ngram_range=(1, 2), norm='l2', preprocessor=None,\n",
       "                smooth_idf=True,\n",
       "                stop_words=frozenset({'a', 'about', 'above', 'across', 'after',\n",
       "                                      'afterwards', 'again', 'against', 'all',\n",
       "                                      'almost', 'alone', 'along', 'already',\n",
       "                                      'also', 'although', 'always', 'am',\n",
       "                                      'among', 'amongst', 'amoungst', 'amount',\n",
       "                                      'an', 'and', 'another', 'any', 'anyhow',\n",
       "                                      'anyone', 'anything', 'anyway',\n",
       "                                      'anywhere', ...}),\n",
       "                strip_accents=None, sublinear_tf=False,\n",
       "                token_pattern='(?u)\\\\b\\\\w\\\\w+\\\\b', tokenizer=None, use_idf=True,\n",
       "                vocabulary=None)"
      ]
     },
     "execution_count": 6,
     "metadata": {},
     "output_type": "execute_result"
    }
   ],
   "source": [
    "from sklearn.feature_extraction import text\n",
    "from sklearn.feature_extraction.text import CountVectorizer\n",
    "from sklearn.feature_extraction.text import TfidfVectorizer\n",
    "\n",
    "stop_words = text.ENGLISH_STOP_WORDS\n",
    "\n",
    "vectorizer = CountVectorizer(stop_words = stop_words, ngram_range=(1, 2),binary = True)\n",
    "tfidf = TfidfVectorizer(ngram_range=(1, 2), stop_words=stop_words,binary = True)\n",
    "\n",
    "vectorizer.fit(X_train)\n",
    "tfidf.fit(X_train)"
   ]
  },
  {
   "cell_type": "code",
   "execution_count": 7,
   "metadata": {},
   "outputs": [],
   "source": [
    "X_train_vc = vectorizer.transform(X_train)\n",
    "X_test_vc = vectorizer.transform(X_test)\n",
    "\n",
    "X_train_tf = tfidf.transform(X_train)\n",
    "X_test_tf = tfidf.transform(X_test)"
   ]
  },
  {
   "cell_type": "markdown",
   "metadata": {},
   "source": [
    "Here I'll explore two models, `LogisticRegression()` and `BernoulliNB()` models. For comparison, I'll first use the default setting. I'll demonstrate the result by plotting the AUC curve for both classifiers and both vectorizers defined above."
   ]
  },
  {
   "cell_type": "code",
   "execution_count": 8,
   "metadata": {},
   "outputs": [
    {
     "data": {
      "text/plain": [
       "<matplotlib.legend.Legend at 0x1a1e980f28>"
      ]
     },
     "execution_count": 8,
     "metadata": {},
     "output_type": "execute_result"
    },
    {
     "data": {
      "image/png": "[encoded data removed]",
      "text/plain": [
       "<Figure size 864x432 with 1 Axes>"
      ]
     },
     "metadata": {
      "needs_background": "light"
     },
     "output_type": "display_data"
    }
   ],
   "source": [
    "import matplotlib.pyplot as plt\n",
    "from sklearn.linear_model import LogisticRegression\n",
    "from sklearn.naive_bayes import BernoulliNB\n",
    "from sklearn import metrics\n",
    "from sklearn.metrics import roc_curve, auc, roc_auc_score\n",
    "\n",
    "%matplotlib inline\n",
    "\n",
    "LR = LogisticRegression(solver='lbfgs')\n",
    "B = BernoulliNB()\n",
    "#LR, using CountVectorizer\n",
    "LR.fit(X_train_vc, y_train)\n",
    "y_pred_LR_vc = LR.predict_proba(X_test_vc)[:,1]\n",
    "fpr_LR_vc, tpr_LR_vc, thresholds_LR_vc = roc_curve(y_test, y_pred_LR_vc)\n",
    "roc_auc_LR_vc = roc_auc_score(y_test, y_pred_LR_vc)\n",
    "\n",
    "#LR, using TfidfVectorizer\n",
    "LR.fit(X_train_tf, y_train)\n",
    "y_pred_LR_tf = LR.predict_proba(X_test_tf)[:,1]\n",
    "fpr_LR_tf, tpr_LR_tf, thresholds_LR_tf = roc_curve(y_test, y_pred_LR_tf)\n",
    "roc_auc_LR_tf = roc_auc_score(y_test, y_pred_LR_tf)\n",
    "\n",
    "#B for training data\n",
    "B.fit(X_train_vc, y_train)\n",
    "y_pred_B_vc = B.predict_proba(X_test_vc)[:,1]\n",
    "fpr_B_vc, tpr_B_vc, thresholds_B_vc = roc_curve(y_test, y_pred_B_vc)\n",
    "roc_auc_B_vc = roc_auc_score(y_test, y_pred_B_vc)\n",
    "\n",
    "#B for test data\n",
    "B.fit(X_train_tf, y_train)\n",
    "y_pred_B_tf = B.predict_proba(X_test_tf)[:,1]\n",
    "fpr_B_tf, tpr_B_tf, thresholds_B_tf = roc_curve(y_test, y_pred_B_tf)\n",
    "roc_auc_B_tf = roc_auc_score(y_test, y_pred_B_tf)\n",
    "\n",
    "fig = plt.figure(figsize = (12, 6))\n",
    "ax = plt.subplot(111)\n",
    "\n",
    "ax.plot(fpr_LR_vc,tpr_LR_vc, label= 'Logistic Regression using CountVectorizer'+' (AUC = %0.3f)'% roc_auc_LR_vc)\n",
    "ax.plot(fpr_LR_tf,tpr_LR_tf, label= 'Logistic Regression using TfidfVectorizer'+' (AUC = %0.3f)'% roc_auc_LR_tf)\n",
    "\n",
    "ax.plot(fpr_B_vc,tpr_B_vc, label= 'BernoulliNB using CountVectorizer'+' (AUC = %0.3f)'% roc_auc_B_vc)\n",
    "ax.plot(fpr_B_vc,tpr_B_vc, label= 'BernoulliNB using TfidfVectorizer'+' (AUC = %0.3f)'% roc_auc_B_tf)\n",
    "\n",
    "plt.xlabel('FPR')\n",
    "plt.ylabel('TPR')\n",
    "plt.title('Area Under the ROC')\n",
    "plt.legend(loc=\"lower right\")"
   ]
  },
  {
   "cell_type": "markdown",
   "metadata": {},
   "source": [
    "**The Logistic Regression model using Tfidf Vectorizer gives the highest AUC (=0.938).**\n",
    "\n",
    "First of all, Logistic Regression (LR) performs better than Bernoulli Naive Bayes (NB). NB assumes class independence, which means the features are independent given the class they belong ('negative' or 'positive'). However, features in a real data sets or factors in real life are never perfectly independent. They can only be close to conditionally independence in very specific cases. Since NB bases on such a big assumption, it has a higher bias but lower variance compared to logistic regression. In case we have the data set that follows this bias, Naive Bayes could be a better classifier. Furthermore, while both NB and LR are linear classifiers, LR makes a prediction for the probability using a direct functional form where NB figures out how the data was generated given the results. Last but not least, for a large data set, LR performs better because NB reaches its asymptotic faster (O(log n)) than LR model (O(n)). This implies that NB reaches the asymptotic solution for fewer training data than LR and cannot give precise prediction for the remaining data after it reaches the asymptotic threshold *(experiment by Dr. Andrew Ng)*.\n",
    "\n",
    "Second, Tfidf Vectorizer performs better than Count Vectorizer because it takes into account not only the frequency of one word appearing in the text but also the importance of that word. Tfidf gives more weights for words that are found in this context specifically and are not generally found in all other documents. It implies that these certain words play a role in specifying the context of our text. Applying the same logic, Tfidf punishes words found in our text that are also found in a lot of similar and dissimilar documents. This implies that these words are not specific to our text but are just general terms."
   ]
  },
  {
   "cell_type": "markdown",
   "metadata": {},
   "source": [
    "**Interesting finding:**\n",
    "    \n",
    "With the Bernoulli model, using Count Vectorizer is the same as using Tfidf Vectorizer. It is because Bernoulli is designed to deal with binary/boolean features. So if Tfidf Vectorizer gives us a value between 0 and 1, and Count Vectorizer gives us the count of the word, Bernoulli will treat all non-zero value as 1. Thus, the inputs coming from these two methods will result in the same prediction in Bernoulli model."
   ]
  },
  {
   "cell_type": "markdown",
   "metadata": {
    "collapsed": true
   },
   "source": [
    "**Check the predictions of the models**\n",
    "\n",
    "To understand why the model could go wrong, I choose to inspect 5 random cases where the model gives a false negative."
   ]
  },
  {
   "cell_type": "code",
   "execution_count": 9,
   "metadata": {},
   "outputs": [
    {
     "data": {
      "text/html": [
       "<div>\n",
       "<style scoped>\n",
       "    .dataframe tbody tr th:only-of-type {\n",
       "        vertical-align: middle;\n",
       "    }\n",
       "\n",
       "    .dataframe tbody tr th {\n",
       "        vertical-align: top;\n",
       "    }\n",
       "\n",
       "    .dataframe thead th {\n",
       "        text-align: right;\n",
       "    }\n",
       "</style>\n",
       "<table border=\"1\" class=\"dataframe\">\n",
       "  <thead>\n",
       "    <tr style=\"text-align: right;\">\n",
       "      <th></th>\n",
       "      <th>Text</th>\n",
       "      <th>Class</th>\n",
       "      <th>Predicted_class</th>\n",
       "      <th>Pred_proba_neg</th>\n",
       "      <th>Pred_proba_pos</th>\n",
       "      <th>Result</th>\n",
       "    </tr>\n",
       "  </thead>\n",
       "  <tbody>\n",
       "    <tr>\n",
       "      <th>2717</th>\n",
       "      <td>'Yes it was a little low budget but this movie shows love! The only bad things about it was that you can tell the budget on this film would not compare to Waterworld and though the plot was good the film never really tapped into its full potential! Strong performances from everyone and the suspense makes it worthwhile to watch on a rainy night.'</td>\n",
       "      <td>1</td>\n",
       "      <td>0</td>\n",
       "      <td>0.506862</td>\n",
       "      <td>0.493138</td>\n",
       "      <td>False Negative</td>\n",
       "    </tr>\n",
       "    <tr>\n",
       "      <th>1534</th>\n",
       "      <td>'I saw this movie as a kid on Creature Feature when I lived in New York. It was a pretty creepy movie though not as good as Horror Hotel. I just bought this movie on DVD and it is different from what I remember because in the DVD that I bought there are several scenes where the actors speak in French and/or Italian and no subtitles are provided. Then the other actors respond in English to what was being said. Kind of weird. Also on the DVD box the names of some of the actors are spelled differently than on IMDb. Aside from that this movie is different in that the character of Elsie takes her clothes off and provides a nude shot in one scene and in another scene Julia tries to force Elizabeth (Barbara Steele) to make out with her by pushing her down on the bed and kissing her while Steele resists. That scene existed in the TV version but it was very edited. I wonder if there is any extra footage that could be incorporated into a remastered ultra-edition? It seems sad that some of these old low budget classics have been spliced to bits and sold in all kinds of edited versions. Where are the master tapes and all the unused footage?  Aside from the first boring twenty minutes before Allen is delivered to the Castle the rest of the movie is pretty good. There arent too many special effects (but Herberts face after Julia clubs him is a good one). The creepy atmosphere and the strange exotic and seductive look of Barbara Steele make the movie a lot better than it should be. I can honestly say that if Barbara Steele had not been in this film it would be a big zero. She makes the movie a ten!'</td>\n",
       "      <td>1</td>\n",
       "      <td>0</td>\n",
       "      <td>0.616167</td>\n",
       "      <td>0.383833</td>\n",
       "      <td>False Negative</td>\n",
       "    </tr>\n",
       "    <tr>\n",
       "      <th>7367</th>\n",
       "      <td>'Chris and Andre are two average ordinary teens. Misunderstood by some and picked on by others. But together they stand and all will pay. Together they form The Army of Two. They scheme and plan Zero Day. That day is when they decide to storm their high school and inevitably murder 14 people in cold blood. Told through the tapes that they made Zero Day it is barely a fictionalized telling of the Columbine tragedy. Zero Day is one of those movies that will mess with your head afterwards. The two main actors (Calvin Robertson and Andre Keuck) do such a good job that their characters seem like almost any disenfranchised teen walking the street. Their performances were very believable you kinda liked these guys and that was scary. Shot on video almost totally from the teens perspectives Zero Day feels very real and authentic like you are right there. These kids try to rationalize their actions to the viewer and the actors sell it to you. But be warned it does follow the tragedy from beginning to end and the ending makes be shocking and uneasy for some.'</td>\n",
       "      <td>1</td>\n",
       "      <td>0</td>\n",
       "      <td>0.507018</td>\n",
       "      <td>0.492982</td>\n",
       "      <td>False Negative</td>\n",
       "    </tr>\n",
       "    <tr>\n",
       "      <th>2982</th>\n",
       "      <td>'A meteor crashes into Crater Lake the heat from the impact causing a prehistoric egg to hatch. Alright so the plot is just trash. But despite its obvious low budget this comes across as one of the most gripping and entertaining monster-on-the-loose films in existence. There are also some good moments of humor. In an age filled so-called monsters which are no more than laughable men-in-rubber-suit creations or lizards dressed up in frills and forced to rip each other to pieces (cheap exploitation-style) its refreshing to discover that the Plesiosaur in this little gem is an excellent Harryhausen-style stop-motion creature. Quite a hard film to find but its worth finding.'</td>\n",
       "      <td>1</td>\n",
       "      <td>0</td>\n",
       "      <td>0.506019</td>\n",
       "      <td>0.493981</td>\n",
       "      <td>False Negative</td>\n",
       "    </tr>\n",
       "    <tr>\n",
       "      <th>8379</th>\n",
       "      <td>'I wasnt expecting the highest calibre of film-making with Joel Schumacher directing this one so I was surprised that TIGERLAND wasnt a complete waste of time. In technique its often derivative of SAVING PRIVATE RYAN with the shaky camera work grainy shots the film occasionally running like its skipping a sprocket---all those techniques Speilberg used to make his film seem more realistic but in the end was more distracting than anything else. But unlike SAVING PRIVATE RYAN the emotional component wasnt as weak as the characters in this film seemed more like real people and the story less contrived not so wrapped up in the American flag (Speilberg gets an F in subtlety). Next to the first section of Kubricks FULL METAL JACKET this is the most realistic portrayal of boot camp that I have seen in a film and for that I think its worth watching. Its not a great film but neither is it a bad film.'</td>\n",
       "      <td>1</td>\n",
       "      <td>0</td>\n",
       "      <td>0.585689</td>\n",
       "      <td>0.414311</td>\n",
       "      <td>False Negative</td>\n",
       "    </tr>\n",
       "  </tbody>\n",
       "</table>\n",
       "</div>"
      ],
      "text/plain": [
       "                                                                                                                                                                                                                                                                                                                                                                                                                                                                                                                                                                                                                                                                                                                                                                                                                                                                                                                                                                                                                                                                                                                                                                                                                                                                                                                                                                                                                                                                                                                                                                                                                                                                             Text  \\\n",
       "2717                                                                                                                                                                                                                                                                                                                                                                                                                                                                                                                                                                                                                                                                                                                                                                                                                                                                                                                                                                                                                                                                                                                                                                                                                                                                                                                  'Yes it was a little low budget but this movie shows love! The only bad things about it was that you can tell the budget on this film would not compare to Waterworld and though the plot was good the film never really tapped into its full potential! Strong performances from everyone and the suspense makes it worthwhile to watch on a rainy night.'   \n",
       "1534  'I saw this movie as a kid on Creature Feature when I lived in New York. It was a pretty creepy movie though not as good as Horror Hotel. I just bought this movie on DVD and it is different from what I remember because in the DVD that I bought there are several scenes where the actors speak in French and/or Italian and no subtitles are provided. Then the other actors respond in English to what was being said. Kind of weird. Also on the DVD box the names of some of the actors are spelled differently than on IMDb. Aside from that this movie is different in that the character of Elsie takes her clothes off and provides a nude shot in one scene and in another scene Julia tries to force Elizabeth (Barbara Steele) to make out with her by pushing her down on the bed and kissing her while Steele resists. That scene existed in the TV version but it was very edited. I wonder if there is any extra footage that could be incorporated into a remastered ultra-edition? It seems sad that some of these old low budget classics have been spliced to bits and sold in all kinds of edited versions. Where are the master tapes and all the unused footage?  Aside from the first boring twenty minutes before Allen is delivered to the Castle the rest of the movie is pretty good. There arent too many special effects (but Herberts face after Julia clubs him is a good one). The creepy atmosphere and the strange exotic and seductive look of Barbara Steele make the movie a lot better than it should be. I can honestly say that if Barbara Steele had not been in this film it would be a big zero. She makes the movie a ten!'   \n",
       "7367                                                                                                                                                                                                                                                                                                                                                                                                                                                                                                                                                                    'Chris and Andre are two average ordinary teens. Misunderstood by some and picked on by others. But together they stand and all will pay. Together they form The Army of Two. They scheme and plan Zero Day. That day is when they decide to storm their high school and inevitably murder 14 people in cold blood. Told through the tapes that they made Zero Day it is barely a fictionalized telling of the Columbine tragedy. Zero Day is one of those movies that will mess with your head afterwards. The two main actors (Calvin Robertson and Andre Keuck) do such a good job that their characters seem like almost any disenfranchised teen walking the street. Their performances were very believable you kinda liked these guys and that was scary. Shot on video almost totally from the teens perspectives Zero Day feels very real and authentic like you are right there. These kids try to rationalize their actions to the viewer and the actors sell it to you. But be warned it does follow the tragedy from beginning to end and the ending makes be shocking and uneasy for some.'   \n",
       "2982                                                                                                                                                                                                                                                                                                                                                                                                                                                                                                                                                                                                                                                                                                                                                                                                                                                                                                                                                                     'A meteor crashes into Crater Lake the heat from the impact causing a prehistoric egg to hatch. Alright so the plot is just trash. But despite its obvious low budget this comes across as one of the most gripping and entertaining monster-on-the-loose films in existence. There are also some good moments of humor. In an age filled so-called monsters which are no more than laughable men-in-rubber-suit creations or lizards dressed up in frills and forced to rip each other to pieces (cheap exploitation-style) its refreshing to discover that the Plesiosaur in this little gem is an excellent Harryhausen-style stop-motion creature. Quite a hard film to find but its worth finding.'   \n",
       "8379                                                                                                                                                                                                                                                                                                                                                                                                                                                                                                                                                                                                                                                                                                                                     'I wasnt expecting the highest calibre of film-making with Joel Schumacher directing this one so I was surprised that TIGERLAND wasnt a complete waste of time. In technique its often derivative of SAVING PRIVATE RYAN with the shaky camera work grainy shots the film occasionally running like its skipping a sprocket---all those techniques Speilberg used to make his film seem more realistic but in the end was more distracting than anything else. But unlike SAVING PRIVATE RYAN the emotional component wasnt as weak as the characters in this film seemed more like real people and the story less contrived not so wrapped up in the American flag (Speilberg gets an F in subtlety). Next to the first section of Kubricks FULL METAL JACKET this is the most realistic portrayal of boot camp that I have seen in a film and for that I think its worth watching. Its not a great film but neither is it a bad film.'   \n",
       "\n",
       "      Class  Predicted_class  Pred_proba_neg  Pred_proba_pos          Result  \n",
       "2717      1                0        0.506862        0.493138  False Negative  \n",
       "1534      1                0        0.616167        0.383833  False Negative  \n",
       "7367      1                0        0.507018        0.492982  False Negative  \n",
       "2982      1                0        0.506019        0.493981  False Negative  \n",
       "8379      1                0        0.585689        0.414311  False Negative  "
      ]
     },
     "execution_count": 9,
     "metadata": {},
     "output_type": "execute_result"
    }
   ],
   "source": [
    "#The model I picked is Logistic Regression with TfidfVectorizer. First, make predictions.\n",
    "LR.fit(X_train_tf, y_train)\n",
    "y_pred = LR.predict(X_test_tf)\n",
    "y_pred_proba = LR.predict_proba(X_test_tf)\n",
    "\n",
    "# Second, detect incorrect predictions. Display 5 incorrect reviews.\n",
    "predict = pd.DataFrame(X_test, columns =['Text'])\n",
    "predict['Class'] = y_test\n",
    "predict['Predicted_class'] = y_pred\n",
    "predict['Pred_proba_neg'] = y_pred_proba[:,0]\n",
    "predict['Pred_proba_pos'] = y_pred_proba[:,1]\n",
    "predict['Result'] = y_pred - y_test\n",
    "\n",
    "result = {0: 'True', 1: 'False Positive', -1: 'False Negative'}\n",
    "predict['Result'] = predict['Result'].map(result)\n",
    "\n",
    "pd.options.display.max_colwidth = 5000\n",
    "predict[predict['Result']=='False Negative'].head(5)"
   ]
  },
  {
   "cell_type": "markdown",
   "metadata": {},
   "source": [
    "**False negative - explanation**\n",
    "\n",
    "These reviews have been classified incorrectly as 'Negative' because they share some negative views about the movie and have 'negative words' captured by our models. The class probability estimations for these instances are very close so in fact our model predicts wrong by only a small percentage. We can see this from looking closely into the 5 chosen instances.\n",
    "\n",
    "1. In the review #2717, we can easily notice the keywords and phrases that are negative and that can trick our model to think that it's overall a bad review. For example, *'it was a little bit low budget', 'The only bad thing about this movie', 'this film would not compare to','the film never tapped into...'*. We use bigram in our model so the phrases the model can catch are *'low budget', 'bad thing', 'never', etc.,* which represent negativity. The negative words appear more frequently than positive words in this review. For us the primary clue to determine this is a good review lies in the last sentence, which reads *'it was worthwhile to watch'*. Also, by showing the class probability estimation, we can see that the Negative class wins by less than 1%.\n",
    "\n",
    "2. Similarly, we can also detect negative phrases in the review #1534, which makes our model predicts that it is negative. The phrases are *'it was a pretty creepy movie though not as good as', 'no subtitles are provided', 'Kind of weird', 'it was very edited... remastered ultra-edition', 'these old low budget classics', 'the first boring twenty minutes', 'There arent too many special effects'.* Our bigram model will therefore capture negative phrases like *'pretty creepy', 'no subtitles', 'weird', 'boring', etc.* In fact, negative words/phrases in this review outnumber the positives one, which leads to the probability estimation for 'Negative' is 0.23 higher than that for 'Positive'.  The only clue that helps us know the reviewer's overall positive feelings about this movie lies at the very end – *'She makes the movie a ten!'.* \n",
    "\n",
    "3. The review #7367 does not contain a lot of negative views and mainly discuss the plot of the movie. The overall theme of the movie is pretty dark (main characters are bullied and plan on a revenge by murdering 14 people), which could lead to some bad keywords being captured by the model. For example, *'misunderstood', 'cold blood','shocking', 'uneasy', etc.* But again, the probability estimation is wrong by a very small amount (around 0.01).\n",
    "\n",
    "4. The false-negative case of #2982 is similar to #2717, the review is brief and contains noticeable negative phrases like *'trash', 'obviously', 'low budget', 'cheap exploitation-style', etc.*, which trick our model into classifying this one as a bad review. But again, the reviewer said *'it's worth'* at the very end so it's overall a positive review. The probability estimation in this case is wrong by a very small amount (around 0.01).\n",
    "\n",
    "5. The false-negative case of #8379 is somewhat similar to #1534 where the negative phrases outnumber the positive ones. Noticeable negative phrases found in this review are *'complete waste of time', 'shaky camera', 'more distracting', 'weak', 'less contrived', 'not great', etc.* But in the end, the review thinks it is *'the most realistic portrayal of.. and neither a bad film'* so it is overall considered a good review. The probability estimations for both classes are somewhat close but the model leans toward classifying it as a 'negative' review."
   ]
  },
  {
   "cell_type": "code",
   "execution_count": null,
   "metadata": {},
   "outputs": [],
   "source": []
  }
 ],
 "metadata": {
  "anaconda-cloud": {},
  "kernelspec": {
   "display_name": "Python 3",
   "language": "python",
   "name": "python3"
  },
  "language_info": {
   "codemirror_mode": {
    "name": "ipython",
    "version": 3
   },
   "file_extension": ".py",
   "mimetype": "text/x-python",
   "name": "python",
   "nbconvert_exporter": "python",
   "pygments_lexer": "ipython3",
   "version": "3.7.4"
  }
 },
 "nbformat": 4,
 "nbformat_minor": 1
}
